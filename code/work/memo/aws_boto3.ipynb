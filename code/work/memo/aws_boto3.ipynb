{
 "cells": [
  {
   "cell_type": "code",
   "execution_count": 1,
   "metadata": {},
   "outputs": [],
   "source": [
    "import boto3"
   ]
  },
  {
   "cell_type": "code",
   "execution_count": 2,
   "metadata": {},
   "outputs": [],
   "source": [
    "s3_client = boto3.client('s3')"
   ]
  },
  {
   "cell_type": "code",
   "execution_count": 3,
   "metadata": {},
   "outputs": [
    {
     "data": {
      "text/plain": [
       "botocore.client.S3"
      ]
     },
     "execution_count": 3,
     "metadata": {},
     "output_type": "execute_result"
    }
   ],
   "source": [
    "type(s3_client)"
   ]
  },
  {
   "cell_type": "code",
   "execution_count": 4,
   "metadata": {},
   "outputs": [],
   "source": [
    "bukets = s3_client.list_buckets()['Buckets']"
   ]
  },
  {
   "cell_type": "code",
   "execution_count": 6,
   "metadata": {},
   "outputs": [
    {
     "data": {
      "text/plain": [
       "[{'Name': 'aws-athena-query-results-145607721954-ap-northeast-2',\n",
       "  'CreationDate': datetime.datetime(2023, 3, 9, 6, 12, 41, tzinfo=tzutc())},\n",
       " {'Name': 'aws-athena-query-results-ap-northeast-2-145607721954',\n",
       "  'CreationDate': datetime.datetime(2023, 3, 9, 7, 45, 32, tzinfo=tzutc())},\n",
       " {'Name': 'aws-sam-cli-managed-default-samclisourcebucket-lcqul54ly3jj',\n",
       "  'CreationDate': datetime.datetime(2022, 11, 7, 4, 37, 2, tzinfo=tzutc())},\n",
       " {'Name': 'codebuild-gradle-remote-caches',\n",
       "  'CreationDate': datetime.datetime(2022, 4, 12, 4, 45, tzinfo=tzutc())},\n",
       " {'Name': 'codepipeline-ap-northeast-2-693335543369',\n",
       "  'CreationDate': datetime.datetime(2021, 11, 16, 6, 6, 19, tzinfo=tzutc())},\n",
       " {'Name': 'google-saml-metadata',\n",
       "  'CreationDate': datetime.datetime(2023, 3, 28, 12, 8, 56, tzinfo=tzutc())},\n",
       " {'Name': 'moyo-activation',\n",
       "  'CreationDate': datetime.datetime(2022, 10, 26, 1, 10, 48, tzinfo=tzutc())},\n",
       " {'Name': 'moyo-ads-data',\n",
       "  'CreationDate': datetime.datetime(2022, 9, 29, 1, 48, 18, tzinfo=tzutc())},\n",
       " {'Name': 'moyo-alpha-logs',\n",
       "  'CreationDate': datetime.datetime(2022, 6, 27, 1, 12, 26, tzinfo=tzutc())},\n",
       " {'Name': 'moyo-alpha-rds-master-snapshot',\n",
       "  'CreationDate': datetime.datetime(2023, 2, 10, 3, 15, 12, tzinfo=tzutc())},\n",
       " {'Name': 'moyo-amplitude-logs',\n",
       "  'CreationDate': datetime.datetime(2022, 6, 30, 2, 19, 32, tzinfo=tzutc())},\n",
       " {'Name': 'moyo-amplitude-logs-partitioned',\n",
       "  'CreationDate': datetime.datetime(2022, 6, 30, 3, 23, 43, tzinfo=tzutc())},\n",
       " {'Name': 'moyo-athena-result',\n",
       "  'CreationDate': datetime.datetime(2022, 6, 15, 2, 27, 4, tzinfo=tzutc())},\n",
       " {'Name': 'moyo-cdn',\n",
       "  'CreationDate': datetime.datetime(2023, 4, 24, 2, 37, 46, tzinfo=tzutc())},\n",
       " {'Name': 'moyo-cost',\n",
       "  'CreationDate': datetime.datetime(2022, 7, 10, 3, 19, 39, tzinfo=tzutc())},\n",
       " {'Name': 'moyo-coupon',\n",
       "  'CreationDate': datetime.datetime(2023, 5, 30, 7, 34, 28, tzinfo=tzutc())},\n",
       " {'Name': 'moyo-cummunity',\n",
       "  'CreationDate': datetime.datetime(2023, 1, 9, 11, 48, 14, tzinfo=tzutc())},\n",
       " {'Name': 'moyo-data',\n",
       "  'CreationDate': datetime.datetime(2022, 6, 17, 4, 38, 48, tzinfo=tzutc())},\n",
       " {'Name': 'moyo-eamil-tracker',\n",
       "  'CreationDate': datetime.datetime(2023, 2, 14, 5, 13, 14, tzinfo=tzutc())},\n",
       " {'Name': 'moyo-experiment',\n",
       "  'CreationDate': datetime.datetime(2022, 12, 7, 14, 35, 8, tzinfo=tzutc())},\n",
       " {'Name': 'moyo-internet',\n",
       "  'CreationDate': datetime.datetime(2022, 11, 23, 9, 9, 49, tzinfo=tzutc())},\n",
       " {'Name': 'moyo-lambda-layer-library',\n",
       "  'CreationDate': datetime.datetime(2022, 9, 30, 6, 55, 53, tzinfo=tzutc())},\n",
       " {'Name': 'moyo-logs',\n",
       "  'CreationDate': datetime.datetime(2022, 6, 14, 2, 38, 56, tzinfo=tzutc())},\n",
       " {'Name': 'moyo-mart',\n",
       "  'CreationDate': datetime.datetime(2022, 8, 28, 15, 1, 32, tzinfo=tzutc())},\n",
       " {'Name': 'moyo-one-day-one-tip',\n",
       "  'CreationDate': datetime.datetime(2023, 1, 26, 13, 5, 41, tzinfo=tzutc())},\n",
       " {'Name': 'moyo-one-day-one-tip-dev',\n",
       "  'CreationDate': datetime.datetime(2023, 3, 24, 8, 55, 21, tzinfo=tzutc())},\n",
       " {'Name': 'moyo-order',\n",
       "  'CreationDate': datetime.datetime(2022, 6, 17, 6, 16, 35, tzinfo=tzutc())},\n",
       " {'Name': 'moyo-phone',\n",
       "  'CreationDate': datetime.datetime(2022, 9, 23, 2, 55, 43, tzinfo=tzutc())},\n",
       " {'Name': 'moyo-plan-ranking',\n",
       "  'CreationDate': datetime.datetime(2022, 8, 26, 7, 46, 56, tzinfo=tzutc())},\n",
       " {'Name': 'moyo-referral',\n",
       "  'CreationDate': datetime.datetime(2022, 10, 5, 0, 16, 37, tzinfo=tzutc())},\n",
       " {'Name': 'moyo-report-cost',\n",
       "  'CreationDate': datetime.datetime(2022, 7, 10, 3, 19, tzinfo=tzutc())},\n",
       " {'Name': 'moyo-s3-bucket-asset',\n",
       "  'CreationDate': datetime.datetime(2023, 5, 2, 6, 28, 1, tzinfo=tzutc())},\n",
       " {'Name': 'moyo-s3-bucket-static',\n",
       "  'CreationDate': datetime.datetime(2023, 5, 2, 6, 28, 1, tzinfo=tzutc())},\n",
       " {'Name': 'moyo-s3-bucket-terraform-module',\n",
       "  'CreationDate': datetime.datetime(2023, 5, 2, 6, 28, 2, tzinfo=tzutc())},\n",
       " {'Name': 'moyo-s3-bucket-terraform-state',\n",
       "  'CreationDate': datetime.datetime(2022, 5, 9, 13, 33, 36, tzinfo=tzutc())},\n",
       " {'Name': 'moyo-scraping',\n",
       "  'CreationDate': datetime.datetime(2023, 5, 12, 8, 33, 48, tzinfo=tzutc())},\n",
       " {'Name': 'moyo-sql-test',\n",
       "  'CreationDate': datetime.datetime(2023, 5, 25, 10, 5, 56, tzinfo=tzutc())},\n",
       " {'Name': 'moyo-temp-data',\n",
       "  'CreationDate': datetime.datetime(2022, 8, 24, 1, 1, 27, tzinfo=tzutc())},\n",
       " {'Name': 'notion-cms-dev-serverlessdeploymentbucket-1vymww1g4nadw',\n",
       "  'CreationDate': datetime.datetime(2023, 3, 23, 4, 47, tzinfo=tzutc())},\n",
       " {'Name': 'notion-cms-prod',\n",
       "  'CreationDate': datetime.datetime(2023, 3, 27, 16, 39, 8, tzinfo=tzutc())},\n",
       " {'Name': 'notion-cms-production-serverlessdeploymentbucket-1lk55jtpoenfz',\n",
       "  'CreationDate': datetime.datetime(2023, 3, 27, 14, 40, 56, tzinfo=tzutc())},\n",
       " {'Name': 'ringo-s3-demo',\n",
       "  'CreationDate': datetime.datetime(2023, 5, 8, 12, 42, 44, tzinfo=tzutc())},\n",
       " {'Name': 'volvo-project',\n",
       "  'CreationDate': datetime.datetime(2022, 2, 21, 6, 22, 30, tzinfo=tzutc())}]"
      ]
     },
     "execution_count": 6,
     "metadata": {},
     "output_type": "execute_result"
    }
   ],
   "source": [
    "s3_client.list_buckets()['Buckets']"
   ]
  },
  {
   "cell_type": "code",
   "execution_count": 7,
   "metadata": {},
   "outputs": [
    {
     "data": {
      "text/plain": [
       "{'ResponseMetadata': {'RequestId': 'AGBGFZQWMN74TWMK',\n",
       "  'HostId': 'li/4RbWkrMA+HgLLtWgxPlmW9YVsC7kKF9Qs3Y0TIY+mY3x6UHlzfgb/KQ8zBYw2RQ5ulbJbVz4=',\n",
       "  'HTTPStatusCode': 200,\n",
       "  'HTTPHeaders': {'x-amz-id-2': 'li/4RbWkrMA+HgLLtWgxPlmW9YVsC7kKF9Qs3Y0TIY+mY3x6UHlzfgb/KQ8zBYw2RQ5ulbJbVz4=',\n",
       "   'x-amz-request-id': 'AGBGFZQWMN74TWMK',\n",
       "   'date': 'Fri, 16 Jun 2023 17:16:40 GMT',\n",
       "   'content-type': 'application/xml',\n",
       "   'transfer-encoding': 'chunked',\n",
       "   'server': 'AmazonS3'},\n",
       "  'RetryAttempts': 0},\n",
       " 'Buckets': [{'Name': 'aws-athena-query-results-145607721954-ap-northeast-2',\n",
       "   'CreationDate': datetime.datetime(2023, 3, 9, 6, 12, 41, tzinfo=tzutc())},\n",
       "  {'Name': 'aws-athena-query-results-ap-northeast-2-145607721954',\n",
       "   'CreationDate': datetime.datetime(2023, 3, 9, 7, 45, 32, tzinfo=tzutc())},\n",
       "  {'Name': 'aws-sam-cli-managed-default-samclisourcebucket-lcqul54ly3jj',\n",
       "   'CreationDate': datetime.datetime(2022, 11, 7, 4, 37, 2, tzinfo=tzutc())},\n",
       "  {'Name': 'codebuild-gradle-remote-caches',\n",
       "   'CreationDate': datetime.datetime(2022, 4, 12, 4, 45, tzinfo=tzutc())},\n",
       "  {'Name': 'codepipeline-ap-northeast-2-693335543369',\n",
       "   'CreationDate': datetime.datetime(2021, 11, 16, 6, 6, 19, tzinfo=tzutc())},\n",
       "  {'Name': 'google-saml-metadata',\n",
       "   'CreationDate': datetime.datetime(2023, 3, 28, 12, 8, 56, tzinfo=tzutc())},\n",
       "  {'Name': 'moyo-activation',\n",
       "   'CreationDate': datetime.datetime(2022, 10, 26, 1, 10, 48, tzinfo=tzutc())},\n",
       "  {'Name': 'moyo-ads-data',\n",
       "   'CreationDate': datetime.datetime(2022, 9, 29, 1, 48, 18, tzinfo=tzutc())},\n",
       "  {'Name': 'moyo-alpha-logs',\n",
       "   'CreationDate': datetime.datetime(2022, 6, 27, 1, 12, 26, tzinfo=tzutc())},\n",
       "  {'Name': 'moyo-alpha-rds-master-snapshot',\n",
       "   'CreationDate': datetime.datetime(2023, 2, 10, 3, 15, 12, tzinfo=tzutc())},\n",
       "  {'Name': 'moyo-amplitude-logs',\n",
       "   'CreationDate': datetime.datetime(2022, 6, 30, 2, 19, 32, tzinfo=tzutc())},\n",
       "  {'Name': 'moyo-amplitude-logs-partitioned',\n",
       "   'CreationDate': datetime.datetime(2022, 6, 30, 3, 23, 43, tzinfo=tzutc())},\n",
       "  {'Name': 'moyo-athena-result',\n",
       "   'CreationDate': datetime.datetime(2022, 6, 15, 2, 27, 4, tzinfo=tzutc())},\n",
       "  {'Name': 'moyo-cdn',\n",
       "   'CreationDate': datetime.datetime(2023, 4, 24, 2, 37, 46, tzinfo=tzutc())},\n",
       "  {'Name': 'moyo-cost',\n",
       "   'CreationDate': datetime.datetime(2022, 7, 10, 3, 19, 39, tzinfo=tzutc())},\n",
       "  {'Name': 'moyo-coupon',\n",
       "   'CreationDate': datetime.datetime(2023, 5, 30, 7, 34, 28, tzinfo=tzutc())},\n",
       "  {'Name': 'moyo-cummunity',\n",
       "   'CreationDate': datetime.datetime(2023, 1, 9, 11, 48, 14, tzinfo=tzutc())},\n",
       "  {'Name': 'moyo-data',\n",
       "   'CreationDate': datetime.datetime(2022, 6, 17, 4, 38, 48, tzinfo=tzutc())},\n",
       "  {'Name': 'moyo-eamil-tracker',\n",
       "   'CreationDate': datetime.datetime(2023, 2, 14, 5, 13, 14, tzinfo=tzutc())},\n",
       "  {'Name': 'moyo-experiment',\n",
       "   'CreationDate': datetime.datetime(2022, 12, 7, 14, 35, 8, tzinfo=tzutc())},\n",
       "  {'Name': 'moyo-internet',\n",
       "   'CreationDate': datetime.datetime(2022, 11, 23, 9, 9, 49, tzinfo=tzutc())},\n",
       "  {'Name': 'moyo-lambda-layer-library',\n",
       "   'CreationDate': datetime.datetime(2022, 9, 30, 6, 55, 53, tzinfo=tzutc())},\n",
       "  {'Name': 'moyo-logs',\n",
       "   'CreationDate': datetime.datetime(2022, 6, 14, 2, 38, 56, tzinfo=tzutc())},\n",
       "  {'Name': 'moyo-mart',\n",
       "   'CreationDate': datetime.datetime(2022, 8, 28, 15, 1, 32, tzinfo=tzutc())},\n",
       "  {'Name': 'moyo-one-day-one-tip',\n",
       "   'CreationDate': datetime.datetime(2023, 1, 26, 13, 5, 41, tzinfo=tzutc())},\n",
       "  {'Name': 'moyo-one-day-one-tip-dev',\n",
       "   'CreationDate': datetime.datetime(2023, 3, 24, 8, 55, 21, tzinfo=tzutc())},\n",
       "  {'Name': 'moyo-order',\n",
       "   'CreationDate': datetime.datetime(2022, 6, 17, 6, 16, 35, tzinfo=tzutc())},\n",
       "  {'Name': 'moyo-phone',\n",
       "   'CreationDate': datetime.datetime(2022, 9, 23, 2, 55, 43, tzinfo=tzutc())},\n",
       "  {'Name': 'moyo-plan-ranking',\n",
       "   'CreationDate': datetime.datetime(2022, 8, 26, 7, 46, 56, tzinfo=tzutc())},\n",
       "  {'Name': 'moyo-referral',\n",
       "   'CreationDate': datetime.datetime(2022, 10, 5, 0, 16, 37, tzinfo=tzutc())},\n",
       "  {'Name': 'moyo-report-cost',\n",
       "   'CreationDate': datetime.datetime(2022, 7, 10, 3, 19, tzinfo=tzutc())},\n",
       "  {'Name': 'moyo-s3-bucket-asset',\n",
       "   'CreationDate': datetime.datetime(2023, 5, 2, 6, 28, 1, tzinfo=tzutc())},\n",
       "  {'Name': 'moyo-s3-bucket-static',\n",
       "   'CreationDate': datetime.datetime(2023, 5, 2, 6, 28, 1, tzinfo=tzutc())},\n",
       "  {'Name': 'moyo-s3-bucket-terraform-module',\n",
       "   'CreationDate': datetime.datetime(2023, 5, 2, 6, 28, 2, tzinfo=tzutc())},\n",
       "  {'Name': 'moyo-s3-bucket-terraform-state',\n",
       "   'CreationDate': datetime.datetime(2022, 5, 9, 13, 33, 36, tzinfo=tzutc())},\n",
       "  {'Name': 'moyo-scraping',\n",
       "   'CreationDate': datetime.datetime(2023, 5, 12, 8, 33, 48, tzinfo=tzutc())},\n",
       "  {'Name': 'moyo-sql-test',\n",
       "   'CreationDate': datetime.datetime(2023, 5, 25, 10, 5, 56, tzinfo=tzutc())},\n",
       "  {'Name': 'moyo-temp-data',\n",
       "   'CreationDate': datetime.datetime(2022, 8, 24, 1, 1, 27, tzinfo=tzutc())},\n",
       "  {'Name': 'notion-cms-dev-serverlessdeploymentbucket-1vymww1g4nadw',\n",
       "   'CreationDate': datetime.datetime(2023, 3, 23, 4, 47, tzinfo=tzutc())},\n",
       "  {'Name': 'notion-cms-prod',\n",
       "   'CreationDate': datetime.datetime(2023, 3, 27, 16, 39, 8, tzinfo=tzutc())},\n",
       "  {'Name': 'notion-cms-production-serverlessdeploymentbucket-1lk55jtpoenfz',\n",
       "   'CreationDate': datetime.datetime(2023, 3, 27, 14, 40, 56, tzinfo=tzutc())},\n",
       "  {'Name': 'ringo-s3-demo',\n",
       "   'CreationDate': datetime.datetime(2023, 5, 8, 12, 42, 44, tzinfo=tzutc())},\n",
       "  {'Name': 'volvo-project',\n",
       "   'CreationDate': datetime.datetime(2022, 2, 21, 6, 22, 30, tzinfo=tzutc())}],\n",
       " 'Owner': {'ID': '1ca4d552ef49a431bdd1c9038db94fa6c66a3c4f8e6b49c954654fc6c194159e'}}"
      ]
     },
     "execution_count": 7,
     "metadata": {},
     "output_type": "execute_result"
    }
   ],
   "source": [
    "s3_client.list_buckets()"
   ]
  },
  {
   "cell_type": "code",
   "execution_count": 8,
   "metadata": {},
   "outputs": [],
   "source": [
    "buket_names = [buket['Name'] for buket in bukets]"
   ]
  },
  {
   "cell_type": "code",
   "execution_count": 9,
   "metadata": {},
   "outputs": [
    {
     "data": {
      "text/plain": [
       "['aws-athena-query-results-145607721954-ap-northeast-2',\n",
       " 'aws-athena-query-results-ap-northeast-2-145607721954',\n",
       " 'aws-sam-cli-managed-default-samclisourcebucket-lcqul54ly3jj',\n",
       " 'codebuild-gradle-remote-caches',\n",
       " 'codepipeline-ap-northeast-2-693335543369',\n",
       " 'google-saml-metadata',\n",
       " 'moyo-activation',\n",
       " 'moyo-ads-data',\n",
       " 'moyo-alpha-logs',\n",
       " 'moyo-alpha-rds-master-snapshot',\n",
       " 'moyo-amplitude-logs',\n",
       " 'moyo-amplitude-logs-partitioned',\n",
       " 'moyo-athena-result',\n",
       " 'moyo-cdn',\n",
       " 'moyo-cost',\n",
       " 'moyo-coupon',\n",
       " 'moyo-cummunity',\n",
       " 'moyo-data',\n",
       " 'moyo-eamil-tracker',\n",
       " 'moyo-experiment',\n",
       " 'moyo-internet',\n",
       " 'moyo-lambda-layer-library',\n",
       " 'moyo-logs',\n",
       " 'moyo-mart',\n",
       " 'moyo-one-day-one-tip',\n",
       " 'moyo-one-day-one-tip-dev',\n",
       " 'moyo-order',\n",
       " 'moyo-phone',\n",
       " 'moyo-plan-ranking',\n",
       " 'moyo-referral',\n",
       " 'moyo-report-cost',\n",
       " 'moyo-s3-bucket-asset',\n",
       " 'moyo-s3-bucket-static',\n",
       " 'moyo-s3-bucket-terraform-module',\n",
       " 'moyo-s3-bucket-terraform-state',\n",
       " 'moyo-scraping',\n",
       " 'moyo-sql-test',\n",
       " 'moyo-temp-data',\n",
       " 'notion-cms-dev-serverlessdeploymentbucket-1vymww1g4nadw',\n",
       " 'notion-cms-prod',\n",
       " 'notion-cms-production-serverlessdeploymentbucket-1lk55jtpoenfz',\n",
       " 'ringo-s3-demo',\n",
       " 'volvo-project']"
      ]
     },
     "execution_count": 9,
     "metadata": {},
     "output_type": "execute_result"
    }
   ],
   "source": [
    "buket_names"
   ]
  },
  {
   "cell_type": "code",
   "execution_count": null,
   "metadata": {},
   "outputs": [],
   "source": []
  }
 ],
 "metadata": {
  "kernelspec": {
   "display_name": "base",
   "language": "python",
   "name": "python3"
  },
  "language_info": {
   "codemirror_mode": {
    "name": "ipython",
    "version": 3
   },
   "file_extension": ".py",
   "mimetype": "text/x-python",
   "name": "python",
   "nbconvert_exporter": "python",
   "pygments_lexer": "ipython3",
   "version": "3.10.8"
  },
  "orig_nbformat": 4
 },
 "nbformat": 4,
 "nbformat_minor": 2
}
