{
 "cells": [
  {
   "cell_type": "code",
   "execution_count": 3,
   "metadata": {},
   "outputs": [],
   "source": [
    "import awswrangler  as wr\n",
    "import pandas as pd\n",
    "# import pandas.io.json\n",
    "import pymysql\n",
    "import datetime\n",
    "import json\n",
    "\n",
    "\n",
    "# load sql\n",
    "#\n",
    "sql = '''\n",
    "with ubl as\n",
    "    (select\n",
    "           from_iso8601_timestamp(json_extract_scalar(user_properties, '$.first_at'))  + interval '9' hour AS first_at\n",
    "          , client_access_time as reg_ts\n",
    "          ,  cast( json_extract_scalar ( event_properties , '$.stay_time_seconds') as integer) as stay_time\n",
    "          , case\n",
    "            when device like 'Web%' then case when device like '%Mobile%'  then 'mobile_web'\n",
    "                                when device like '%Desktop%' then  'desktop'  end\n",
    "            when device like 'App%' then 'App'\n",
    "\n",
    "end as device_type\n",
    "         , *\n",
    "     from moyo_logs.user_behavior_logs\n",
    "     where 1 = 1\n",
    "\n",
    "       and date_ymd between '2023-03-10' and '2023-06-01'\n",
    "-- limit 1000\n",
    "-- 23년 3월동안 가입한 유저들이 30일 동안 재방문 가능성\n",
    ")\n",
    ", merge as (\n",
    "select\n",
    "user_id\n",
    ", uuid\n",
    "from ubl\n",
    "where 1 = 1\n",
    "    and cast(user_id as double) <> 0\n",
    "    and user_id is not null\n",
    "--     and device_type = 'App'\n",
    "group by 1, 2\n",
    "order by 1\n",
    ")\n",
    "select\n",
    " device_type\n",
    ", user_id\n",
    ", count( distinct uuid ) as uuid_cnt\n",
    ", count( * ) as event_cnt\n",
    "from ubl\n",
    "where 1=1\n",
    "    and user_id is not null\n",
    "group by 1,2\n",
    "\n",
    "'''\n",
    "# sql_v1 = ''' \n",
    "# select *\n",
    "# from moyo_scraping.mno_scraping_result\n",
    "# where 1=1\n",
    "#     and version = 1 \n",
    "# '''\n",
    "# sql_v2 = '''\n",
    "# select *\n",
    "# from moyo_scraping.mno_scraping_result\n",
    "# where 1=1\n",
    "\n",
    "#     and version = 2\n",
    "# '''\n",
    "df_v1= wr.athena.read_sql_query(sql=sql, database=\"moyo_order\")"
   ]
  },
  {
   "cell_type": "code",
   "execution_count": 6,
   "metadata": {},
   "outputs": [
    {
     "data": {
      "text/html": [
       "<div>\n",
       "<style scoped>\n",
       "    .dataframe tbody tr th:only-of-type {\n",
       "        vertical-align: middle;\n",
       "    }\n",
       "\n",
       "    .dataframe tbody tr th {\n",
       "        vertical-align: top;\n",
       "    }\n",
       "\n",
       "    .dataframe thead th {\n",
       "        text-align: right;\n",
       "    }\n",
       "</style>\n",
       "<table border=\"1\" class=\"dataframe\">\n",
       "  <thead>\n",
       "    <tr style=\"text-align: right;\">\n",
       "      <th></th>\n",
       "      <th>device_type</th>\n",
       "      <th>user_id</th>\n",
       "      <th>uuid_cnt</th>\n",
       "      <th>event_cnt</th>\n",
       "    </tr>\n",
       "  </thead>\n",
       "  <tbody>\n",
       "    <tr>\n",
       "      <th>0</th>\n",
       "      <td>mobile_web</td>\n",
       "      <td>106116</td>\n",
       "      <td>2</td>\n",
       "      <td>304</td>\n",
       "    </tr>\n",
       "  </tbody>\n",
       "</table>\n",
       "</div>"
      ],
      "text/plain": [
       "  device_type  user_id  uuid_cnt  event_cnt\n",
       "0  mobile_web   106116         2        304"
      ]
     },
     "execution_count": 6,
     "metadata": {},
     "output_type": "execute_result"
    }
   ],
   "source": [
    "df_v1.head(1)\n"
   ]
  },
  {
   "cell_type": "code",
   "execution_count": null,
   "metadata": {},
   "outputs": [],
   "source": []
  },
  {
   "cell_type": "code",
   "execution_count": 19,
   "metadata": {},
   "outputs": [
    {
     "data": {
      "image/png": "[encoded data removed]",
      "text/plain": [
       "<Figure size 640x480 with 1 Axes>"
      ]
     },
     "metadata": {},
     "output_type": "display_data"
    }
   ],
   "source": [
    "# ecdf plot \n",
    "# Path: Workbook/user_behavier_churn _and_duplicated_auth/user_duplicated_auth.ipynb\n",
    "import numpy as np\n",
    "import matplotlib.pyplot as plt\n",
    "\n",
    "# Assuming df is your pandas DataFrame, and 'dimension' is your categorical variable\n",
    "\n",
    "for category in df_v1['device_type'].unique():\n",
    "    # Select data for this category\n",
    "    data = df_v1[df_v1['device_type'] == category]\n",
    "\n",
    "    # Compute ECDF\n",
    "    x = np.sort(data['uuid_cnt'])\n",
    "    y = np.arange(1, len(x) + 1) / len(x)\n",
    "\n",
    "    # Plot ECDF\n",
    "    plt.plot(x, y, label=category, alpha = 0.5)\n",
    "\n",
    "plt.xlabel('Your Numeric Column')\n",
    "plt.ylabel('ECDF')\n",
    "plt.legend()\n",
    "plt.show()\n",
    "\n"
   ]
  },
  {
   "cell_type": "code",
   "execution_count": null,
   "metadata": {},
   "outputs": [],
   "source": []
  }
 ],
 "metadata": {
  "kernelspec": {
   "display_name": "base",
   "language": "python",
   "name": "python3"
  },
  "language_info": {
   "codemirror_mode": {
    "name": "ipython",
    "version": 3
   },
   "file_extension": ".py",
   "mimetype": "text/x-python",
   "name": "python",
   "nbconvert_exporter": "python",
   "pygments_lexer": "ipython3",
   "version": "3.10.8"
  },
  "orig_nbformat": 4
 },
 "nbformat": 4,
 "nbformat_minor": 2
}
