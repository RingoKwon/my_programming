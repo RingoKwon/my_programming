{
 "cells": [
  {
   "cell_type": "code",
   "execution_count": 1,
   "metadata": {},
   "outputs": [],
   "source": [
    "import awswrangler  as wr\n",
    "import pandas as pd\n",
    "import pymysql\n",
    "import datetime\n",
    "import json\n"
   ]
  },
  {
   "cell_type": "code",
   "execution_count": 2,
   "metadata": {},
   "outputs": [],
   "source": [
    "sql_v1 = ''' \n",
    "select\n",
    "mno\n",
    ", mvno\n",
    ", date_diff( 'hour', reg_ts , completed_at )/24 as diff_hour\n",
    ", case when order_type= 'self' then  date_diff( 'hour', reg_ts , completed_at )/24 end as self_completed\n",
    ",case when order_type = 'register' then date_diff( 'hour', reg_ts , completed_at )/24 end as regi_completed\n",
    "from moyo_order.mobile_plan_order\n",
    "where 1=1\n",
    "    and date(reg_ts) between date('2023-05-01') and date('2023-06-01')\n",
    "'''"
   ]
  },
  {
   "cell_type": "code",
   "execution_count": 3,
   "metadata": {},
   "outputs": [],
   "source": [
    "df_v1= wr.athena.read_sql_query(sql=sql_v1, database=\"moyo_order\")"
   ]
  },
  {
   "cell_type": "code",
   "execution_count": 4,
   "metadata": {},
   "outputs": [
    {
     "data": {
      "text/html": [
       "<div>\n",
       "<style scoped>\n",
       "    .dataframe tbody tr th:only-of-type {\n",
       "        vertical-align: middle;\n",
       "    }\n",
       "\n",
       "    .dataframe tbody tr th {\n",
       "        vertical-align: top;\n",
       "    }\n",
       "\n",
       "    .dataframe thead th {\n",
       "        text-align: right;\n",
       "    }\n",
       "</style>\n",
       "<table border=\"1\" class=\"dataframe\">\n",
       "  <thead>\n",
       "    <tr style=\"text-align: right;\">\n",
       "      <th></th>\n",
       "      <th>mno</th>\n",
       "      <th>mvno</th>\n",
       "      <th>diff_hour</th>\n",
       "      <th>self_completed</th>\n",
       "      <th>regi_completed</th>\n",
       "    </tr>\n",
       "  </thead>\n",
       "  <tbody>\n",
       "    <tr>\n",
       "      <th>0</th>\n",
       "      <td>LGU</td>\n",
       "      <td>smartel</td>\n",
       "      <td>&lt;NA&gt;</td>\n",
       "      <td>&lt;NA&gt;</td>\n",
       "      <td>&lt;NA&gt;</td>\n",
       "    </tr>\n",
       "    <tr>\n",
       "      <th>1</th>\n",
       "      <td>LGU</td>\n",
       "      <td>사람과연결</td>\n",
       "      <td>&lt;NA&gt;</td>\n",
       "      <td>&lt;NA&gt;</td>\n",
       "      <td>&lt;NA&gt;</td>\n",
       "    </tr>\n",
       "    <tr>\n",
       "      <th>2</th>\n",
       "      <td>LGU</td>\n",
       "      <td>insmobile</td>\n",
       "      <td>0</td>\n",
       "      <td>0</td>\n",
       "      <td>&lt;NA&gt;</td>\n",
       "    </tr>\n",
       "    <tr>\n",
       "      <th>3</th>\n",
       "      <td>KT</td>\n",
       "      <td>pointplus</td>\n",
       "      <td>11</td>\n",
       "      <td>&lt;NA&gt;</td>\n",
       "      <td>11</td>\n",
       "    </tr>\n",
       "    <tr>\n",
       "      <th>4</th>\n",
       "      <td>LGU</td>\n",
       "      <td>이지모바일</td>\n",
       "      <td>4</td>\n",
       "      <td>&lt;NA&gt;</td>\n",
       "      <td>4</td>\n",
       "    </tr>\n",
       "  </tbody>\n",
       "</table>\n",
       "</div>"
      ],
      "text/plain": [
       "   mno       mvno  diff_hour  self_completed  regi_completed\n",
       "0  LGU    smartel       <NA>            <NA>            <NA>\n",
       "1  LGU      사람과연결       <NA>            <NA>            <NA>\n",
       "2  LGU  insmobile          0               0            <NA>\n",
       "3   KT  pointplus         11            <NA>              11\n",
       "4  LGU      이지모바일          4            <NA>               4"
      ]
     },
     "execution_count": 4,
     "metadata": {},
     "output_type": "execute_result"
    }
   ],
   "source": [
    "df_v1.head()\n"
   ]
  },
  {
   "cell_type": "code",
   "execution_count": 5,
   "metadata": {},
   "outputs": [
    {
     "name": "stdout",
     "output_type": "stream",
     "text": [
      "<class 'pandas.core.frame.DataFrame'>\n",
      "RangeIndex: 27074 entries, 0 to 27073\n",
      "Data columns (total 5 columns):\n",
      " #   Column          Non-Null Count  Dtype \n",
      "---  ------          --------------  ----- \n",
      " 0   mno             26950 non-null  string\n",
      " 1   mvno            27074 non-null  string\n",
      " 2   diff_hour       17386 non-null  Int64 \n",
      " 3   self_completed  6244 non-null   Int64 \n",
      " 4   regi_completed  11142 non-null  Int64 \n",
      "dtypes: Int64(3), string(2)\n",
      "memory usage: 1.1 MB\n"
     ]
    }
   ],
   "source": [
    "df_v1.info()"
   ]
  },
  {
   "cell_type": "code",
   "execution_count": 7,
   "metadata": {},
   "outputs": [
    {
     "data": {
      "text/html": [
       "<div>\n",
       "<style scoped>\n",
       "    .dataframe tbody tr th:only-of-type {\n",
       "        vertical-align: middle;\n",
       "    }\n",
       "\n",
       "    .dataframe tbody tr th {\n",
       "        vertical-align: top;\n",
       "    }\n",
       "\n",
       "    .dataframe thead th {\n",
       "        text-align: right;\n",
       "    }\n",
       "</style>\n",
       "<table border=\"1\" class=\"dataframe\">\n",
       "  <thead>\n",
       "    <tr style=\"text-align: right;\">\n",
       "      <th></th>\n",
       "      <th>mno</th>\n",
       "      <th>mvno</th>\n",
       "      <th>diff_hour</th>\n",
       "      <th>self_completed</th>\n",
       "      <th>regi_completed</th>\n",
       "    </tr>\n",
       "  </thead>\n",
       "  <tbody>\n",
       "  </tbody>\n",
       "</table>\n",
       "</div>"
      ],
      "text/plain": [
       "Empty DataFrame\n",
       "Columns: [mno, mvno, diff_hour, self_completed, regi_completed]\n",
       "Index: []"
      ]
     },
     "execution_count": 7,
     "metadata": {},
     "output_type": "execute_result"
    }
   ],
   "source": [
    "df_v1.dropna(inplace=False)"
   ]
  },
  {
   "cell_type": "code",
   "execution_count": 13,
   "metadata": {},
   "outputs": [
    {
     "data": {
      "text/plain": [
       "2         0\n",
       "3        11\n",
       "4         4\n",
       "6         7\n",
       "7         8\n",
       "         ..\n",
       "27067     7\n",
       "27069     1\n",
       "27070     0\n",
       "27071     8\n",
       "27073    18\n",
       "Name: diff_hour, Length: 17386, dtype: Int64"
      ]
     },
     "execution_count": 13,
     "metadata": {},
     "output_type": "execute_result"
    }
   ],
   "source": [
    "df_v1.diff_hour.dropna(inplace=False)"
   ]
  },
  {
   "cell_type": "code",
   "execution_count": null,
   "metadata": {},
   "outputs": [],
   "source": [
    "# apply_plan 기준으로 분기 만들어서 max_diff_min 의 ecdf 그려줘 \n",
    "# ecdf plot \n",
    "# Path: Workbook/user_behavier_churn _and_duplicated_auth/user_duplicated_auth.ipynb\n",
    "import numpy as np\n",
    "import matplotlib.pyplot as plt\n",
    "\n",
    "# Assuming df is your pandas DataFrame, and 'dimension' is your categorical variable\n",
    "\n",
    "for category in df_v1['apply_plan'].unique():\n",
    "    # Select data for this category\n",
    "    data = df_v1[df_v1['apply_plan'] == category]\n",
    "\n",
    "    # Compute ECDF\n",
    "    x = np.sort(data['max_diff_min'])\n",
    "    y = np.arange(1, len(x) + 1) / len(x)\n",
    "\n",
    "    # Plot ECDF\n",
    "    plt.plot(x, y, label=category, alpha = 0.5)\n",
    "\n",
    "plt.xlabel('Your Numeric Column')\n",
    "plt.ylabel('ECDF')\n",
    "# plt.axvline(x=60, color='r', linestyle='--')\n",
    "plt.xlim(-10, 100)\n",
    "plt.legend()\n",
    "plt.show()\n",
    "\n"
   ]
  }
 ],
 "metadata": {
  "kernelspec": {
   "display_name": "base",
   "language": "python",
   "name": "python3"
  },
  "language_info": {
   "codemirror_mode": {
    "name": "ipython",
    "version": 3
   },
   "file_extension": ".py",
   "mimetype": "text/x-python",
   "name": "python",
   "nbconvert_exporter": "python",
   "pygments_lexer": "ipython3",
   "version": "3.10.8"
  },
  "orig_nbformat": 4
 },
 "nbformat": 4,
 "nbformat_minor": 2
}
