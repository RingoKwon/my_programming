{
 "cells": [
  {
   "cell_type": "code",
   "execution_count": 2,
   "metadata": {},
   "outputs": [],
   "source": [
    "import awswrangler  as wr\n",
    "import pandas as pd\n",
    "import pymysql\n",
    "import datetime"
   ]
  },
  {
   "cell_type": "code",
   "execution_count": 27,
   "metadata": {},
   "outputs": [],
   "source": [
    "\n",
    "\n",
    "# def lambda_handler(event, context):\n",
    "    \n",
    "#     sql_query = \"\"\"\n",
    "#     select title, \n",
    "#           case when navigation = 'contents_detail' then 'contents' else 'guide' end as is_contents, \n",
    "#           count(distinct uuid) as user_count, \n",
    "#           date_ymd\n",
    "#     from\n",
    "#     (SELECT date(date_ymd) as date_ymd,uuid,\n",
    "#           object_id as title,\n",
    "#           navigation\n",
    "#     FROM \"moyo_logs\".\"user_behavior_logs\" \n",
    "#     where navigation in ('guide_detail', 'contents_detail') and category = 'pageview'\n",
    "#           and date(date_ymd) = date_add('day',-1,date(current_timestamp at time zone 'asia/seoul')))\n",
    "#     group by 1,2,4\n",
    "#     \"\"\"\n",
    "\n",
    "#     df = wr.athena.read_sql_query(sql=sql_query, database=\"moyo_logs\")\n",
    "\n",
    "#     bucket = 'moyo-mart'\n",
    "#     table_name = 'guide_visit_count_by_title'\n",
    "    \n",
    "#     res = wr.s3.to_parquet(\n",
    "#         df=df,\n",
    "#         path=f\"s3://{bucket}/{table_name}/\",\n",
    "#         dataset=True,\n",
    "#         database=\"moyo_mart\",\n",
    "#         table=table_name,\n",
    "#         mode=\"overwrite_partitions\",\n",
    "#         partition_cols=['date_ymd']\n",
    "#     )"
   ]
  },
  {
   "cell_type": "code",
   "execution_count": 40,
   "metadata": {},
   "outputs": [],
   "source": [
    "sql = \"\"\"\n",
    "WITH raw1 AS (\n",
    "  SELECT\n",
    "    date_ymd,\n",
    "    client_access_time,\n",
    "    category,\n",
    "    object_type,\n",
    "    rand() AS rand,\n",
    "    -- current_timestamp in KR time, add 9 hours\n",
    "--     current_timestamp AT TIME ZONE 'UTC' + INTERVAL '9' HOUR AS current_timestamp_kr,\n",
    "    -- Reformat client_access_time to the desired format\n",
    "    CONCAT(substr(CAST( current_timestamp AT TIME ZONE 'UTC' + INTERVAL '9' HOUR  AS varchar), 1, 23), '000') AS reformatted_client_access_time\n",
    "  FROM\n",
    "    moyo_logs.user_behavior_logs\n",
    ")\n",
    "SELECT *\n",
    "FROM\n",
    "  raw1\n",
    "ORDER BY\n",
    "  rand\n",
    "LIMIT 100;\n",
    "\n",
    "\"\"\"\n",
    "\n",
    "df = wr.athena.read_sql_query(sql=sql, database=\"moyo_order\")"
   ]
  },
  {
   "cell_type": "code",
   "execution_count": 41,
   "metadata": {},
   "outputs": [
    {
     "data": {
      "text/html": [
       "<div>\n",
       "<style scoped>\n",
       "    .dataframe tbody tr th:only-of-type {\n",
       "        vertical-align: middle;\n",
       "    }\n",
       "\n",
       "    .dataframe tbody tr th {\n",
       "        vertical-align: top;\n",
       "    }\n",
       "\n",
       "    .dataframe thead th {\n",
       "        text-align: right;\n",
       "    }\n",
       "</style>\n",
       "<table border=\"1\" class=\"dataframe\">\n",
       "  <thead>\n",
       "    <tr style=\"text-align: right;\">\n",
       "      <th></th>\n",
       "      <th>date_ymd</th>\n",
       "      <th>client_access_time</th>\n",
       "      <th>category</th>\n",
       "      <th>object_type</th>\n",
       "      <th>rand</th>\n",
       "      <th>reformatted_client_access_time</th>\n",
       "    </tr>\n",
       "  </thead>\n",
       "  <tbody>\n",
       "    <tr>\n",
       "      <th>0</th>\n",
       "      <td>2022-12-14</td>\n",
       "      <td>2022-12-14 17:40:53</td>\n",
       "      <td>impression</td>\n",
       "      <td>plan</td>\n",
       "      <td>5.440454e-09</td>\n",
       "      <td>2023-05-09 08:03:55.953000</td>\n",
       "    </tr>\n",
       "    <tr>\n",
       "      <th>1</th>\n",
       "      <td>2022-10-13</td>\n",
       "      <td>2022-10-13 16:38:10</td>\n",
       "      <td>pageview</td>\n",
       "      <td>&lt;NA&gt;</td>\n",
       "      <td>7.604807e-09</td>\n",
       "      <td>2023-05-09 08:03:55.953000</td>\n",
       "    </tr>\n",
       "    <tr>\n",
       "      <th>2</th>\n",
       "      <td>2023-04-27</td>\n",
       "      <td>2023-04-27 15:17:10</td>\n",
       "      <td>pageexit</td>\n",
       "      <td>&lt;NA&gt;</td>\n",
       "      <td>1.342311e-08</td>\n",
       "      <td>2023-05-09 08:03:55.953000</td>\n",
       "    </tr>\n",
       "    <tr>\n",
       "      <th>3</th>\n",
       "      <td>2023-01-28</td>\n",
       "      <td>2023-01-28 13:45:20</td>\n",
       "      <td>pageview</td>\n",
       "      <td>plan</td>\n",
       "      <td>2.283086e-08</td>\n",
       "      <td>2023-05-09 08:03:55.953000</td>\n",
       "    </tr>\n",
       "    <tr>\n",
       "      <th>4</th>\n",
       "      <td>2022-12-30</td>\n",
       "      <td>2022-12-30 22:55:18</td>\n",
       "      <td>impression</td>\n",
       "      <td>plan</td>\n",
       "      <td>2.794881e-08</td>\n",
       "      <td>2023-05-09 08:03:55.953000</td>\n",
       "    </tr>\n",
       "  </tbody>\n",
       "</table>\n",
       "</div>"
      ],
      "text/plain": [
       "     date_ymd  client_access_time    category object_type          rand  \\\n",
       "0  2022-12-14 2022-12-14 17:40:53  impression        plan  5.440454e-09   \n",
       "1  2022-10-13 2022-10-13 16:38:10    pageview        <NA>  7.604807e-09   \n",
       "2  2023-04-27 2023-04-27 15:17:10    pageexit        <NA>  1.342311e-08   \n",
       "3  2023-01-28 2023-01-28 13:45:20    pageview        plan  2.283086e-08   \n",
       "4  2022-12-30 2022-12-30 22:55:18  impression        plan  2.794881e-08   \n",
       "\n",
       "  reformatted_client_access_time  \n",
       "0     2023-05-09 08:03:55.953000  \n",
       "1     2023-05-09 08:03:55.953000  \n",
       "2     2023-05-09 08:03:55.953000  \n",
       "3     2023-05-09 08:03:55.953000  \n",
       "4     2023-05-09 08:03:55.953000  "
      ]
     },
     "execution_count": 41,
     "metadata": {},
     "output_type": "execute_result"
    }
   ],
   "source": [
    "df.head()"
   ]
  },
  {
   "cell_type": "code",
   "execution_count": 42,
   "metadata": {},
   "outputs": [
    {
     "name": "stderr",
     "output_type": "stream",
     "text": [
      "/Users/ringokwon/anaconda3/lib/python3.10/site-packages/awswrangler/s3/_write_dataset.py:93: FutureWarning: In a future version of pandas, a length 1 tuple will be returned when iterating over a groupby with a grouper equal to a list of length 1. Don't supply a list with a single grouper to avoid this warning.\n",
      "  for keys, subgroup in df.groupby(by=partition_cols, observed=True):\n"
     ]
    }
   ],
   "source": [
    "bucket = 'moyo-mart'\n",
    "table_name = 'ringo_partition_test'\n",
    "\n",
    "\n",
    "res = wr.s3.to_parquet(\n",
    "    df=df,\n",
    "    path=f\"s3://{bucket}/{table_name}/\",\n",
    "    dataset=True,\n",
    "    database=\"moyo_mart\",\n",
    "    table=table_name,\n",
    "    mode=\"overwrite_partitions\", \n",
    "    partition_cols=['date_ymd']\n",
    ")\n",
    "# https://s3.console.aws.amazon.com/s3/buckets/moyo-mart?region=ap-northeast-2&prefix=ringo_partition_test/&showversions=false\n"
   ]
  },
  {
   "cell_type": "code",
   "execution_count": 3,
   "metadata": {},
   "outputs": [
    {
     "name": "stderr",
     "output_type": "stream",
     "text": [
      "/Users/ringokwon/anaconda3/lib/python3.10/site-packages/awswrangler/s3/_write_dataset.py:93: FutureWarning: In a future version of pandas, a length 1 tuple will be returned when iterating over a groupby with a grouper equal to a list of length 1. Don't supply a list with a single grouper to avoid this warning.\n",
      "  for keys, subgroup in df.groupby(by=partition_cols, observed=True):\n"
     ]
    }
   ],
   "source": [
    "sql_query = \"\"\"\n",
    "    select 'c' as append, '2021-01-07' as date_ymd\n",
    "    , CONCAT(substr(CAST( current_timestamp AT TIME ZONE 'UTC' + INTERVAL '9' HOUR  AS varchar), 1, 23), '000') AS reformatted_client_access_time\n",
    "    union all \n",
    "     select 'c' as append, '2021-01-05' as date_ymd\n",
    "    , CONCAT(substr(CAST( current_timestamp AT TIME ZONE 'UTC' + INTERVAL '9' HOUR  AS varchar), 1, 23), '000') AS reformatted_client_access_time\n",
    "    \"\"\"\n",
    "\n",
    "df = wr.athena.read_sql_query(sql=sql_query, database=\"moyo_logs\")\n",
    "\n",
    "bucket = 'moyo-mart'\n",
    "table_name = 'mart_test1'\n",
    "\n",
    "res = wr.s3.to_parquet(\n",
    "    df=df,\n",
    "    path=f\"s3://{bucket}/{table_name}/\",\n",
    "    dataset=True,\n",
    "    database=\"moyo_mart\",\n",
    "    table=table_name,\n",
    "    mode=\"overwrite_partitions\",\n",
    "    partition_cols=['date_ymd']\n",
    "    )"
   ]
  },
  {
   "cell_type": "code",
   "execution_count": 7,
   "metadata": {},
   "outputs": [
    {
     "name": "stderr",
     "output_type": "stream",
     "text": [
      "/Users/ringokwon/anaconda3/lib/python3.10/site-packages/awswrangler/s3/_write_dataset.py:93: FutureWarning: In a future version of pandas, a length 1 tuple will be returned when iterating over a groupby with a grouper equal to a list of length 1. Don't supply a list with a single grouper to avoid this warning.\n",
      "  for keys, subgroup in df.groupby(by=partition_cols, observed=True):\n"
     ]
    }
   ],
   "source": [
    "sql_query = \"\"\"\n",
    "    select 'd' as append\n",
    "    , CONCAT(substr(CAST( current_timestamp AT TIME ZONE 'UTC' + INTERVAL '9' HOUR  AS varchar), 1, 23), '000') AS reformatted_client_access_time\n",
    "    , 1 as additional_col\n",
    "    ,'2021-01-03' as date_ymd\n",
    "    \"\"\"\n",
    "\n",
    "df = wr.athena.read_sql_query(sql=sql_query, database=\"moyo_logs\")\n",
    "\n",
    "bucket = 'moyo-mart'\n",
    "table_name = 'mart_test2'\n",
    "\n",
    "res = wr.s3.to_parquet(\n",
    "    df=df,\n",
    "    path=f\"s3://{bucket}/{table_name}/\",\n",
    "    dataset=True,\n",
    "    database=\"moyo_mart\",\n",
    "    table=table_name,\n",
    "    mode=\"overwrite_partitions\",\n",
    "    partition_cols=['date_ymd']\n",
    "    )"
   ]
  },
  {
   "cell_type": "code",
   "execution_count": null,
   "metadata": {},
   "outputs": [],
   "source": []
  }
 ],
 "metadata": {
  "kernelspec": {
   "display_name": "base",
   "language": "python",
   "name": "python3"
  },
  "language_info": {
   "codemirror_mode": {
    "name": "ipython",
    "version": 3
   },
   "file_extension": ".py",
   "mimetype": "text/x-python",
   "name": "python",
   "nbconvert_exporter": "python",
   "pygments_lexer": "ipython3",
   "version": "3.10.8"
  },
  "orig_nbformat": 4
 },
 "nbformat": 4,
 "nbformat_minor": 2
}
