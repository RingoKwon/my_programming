{
 "cells": [
  {
   "cell_type": "code",
   "execution_count": 12,
   "metadata": {},
   "outputs": [
    {
     "name": "stdout",
     "output_type": "stream",
     "text": [
      "2023-04-22\n"
     ]
    }
   ],
   "source": [
    "from datetime import date\n",
    "from dateutil.relativedelta import relativedelta\n",
    "\n",
    "# Get today's date\n",
    "today = date.today()\n",
    "\n",
    "# Get the date three months ago\n",
    "three_months_ago = today - relativedelta(months=3)\n",
    "\n",
    "# Exclude today by subtracting one day\n",
    "if three_months_ago == today:\n",
    "    three_months_ago -= relativedelta(days=1)\n",
    "\n",
    "print(three_months_ago)\n"
   ]
  },
  {
   "cell_type": "code",
   "execution_count": 21,
   "metadata": {},
   "outputs": [
    {
     "name": "stdout",
     "output_type": "stream",
     "text": [
      "['2023-06-01', '2023-05-01', '2023-04-01']\n"
     ]
    }
   ],
   "source": [
    "from datetime import date\n",
    "from dateutil.relativedelta import relativedelta\n",
    "\n",
    "# Get today's date\n",
    "today = date.today()\n",
    "\n",
    "# Prepare a list to hold the previous three months\n",
    "previous_three_months = []\n",
    "\n",
    "# Get the start date of the previous three months\n",
    "for i in range(1, 4):\n",
    "    # Get the first day of the month for the month 'i' months ago\n",
    "    first_day_of_previous_month = today.replace(day=1) - relativedelta(months=i)\n",
    "    # Add it to the list\n",
    "    previous_three_months.append(first_day_of_previous_month.strftime('%Y-%m-%d'))\n",
    "\n",
    "# Print the list\n",
    "print(previous_three_months)\n"
   ]
  },
  {
   "cell_type": "code",
   "execution_count": 24,
   "metadata": {},
   "outputs": [],
   "source": [
    "previous_three_months.sort(reverse=True)"
   ]
  },
  {
   "cell_type": "code",
   "execution_count": 27,
   "metadata": {},
   "outputs": [
    {
     "data": {
      "text/plain": [
       "'2023-06-01'"
      ]
     },
     "execution_count": 27,
     "metadata": {},
     "output_type": "execute_result"
    }
   ],
   "source": [
    "previous_three_months[0]"
   ]
  },
  {
   "cell_type": "code",
   "execution_count": 29,
   "metadata": {},
   "outputs": [
    {
     "data": {
      "text/plain": [
       "'2023-07-22'"
      ]
     },
     "execution_count": 29,
     "metadata": {},
     "output_type": "execute_result"
    }
   ],
   "source": [
    "today.strftime('%Y-%m-%d')"
   ]
  },
  {
   "cell_type": "code",
   "execution_count": null,
   "metadata": {},
   "outputs": [],
   "source": []
  }
 ],
 "metadata": {
  "kernelspec": {
   "display_name": "Python 3",
   "language": "python",
   "name": "python3"
  },
  "language_info": {
   "codemirror_mode": {
    "name": "ipython",
    "version": 3
   },
   "file_extension": ".py",
   "mimetype": "text/x-python",
   "name": "python",
   "nbconvert_exporter": "python",
   "pygments_lexer": "ipython3",
   "version": "3.11.3"
  },
  "orig_nbformat": 4
 },
 "nbformat": 4,
 "nbformat_minor": 2
}
