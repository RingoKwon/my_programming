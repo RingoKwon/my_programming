{
 "cells": [
  {
   "cell_type": "code",
   "execution_count": 10,
   "metadata": {},
   "outputs": [],
   "source": [
    "import awswrangler as wr\n",
    "import pandas as pd\n",
    "# import pymysql\n",
    "# import datetime\n",
    "\n",
    "    \n",
    "\n",
    "# Lambda 핸들러 함수. 이벤트와 컨텍스트 매개변수를 받습니다.\n",
    "\n",
    "\n",
    "# 첫 번째 SQL 쿼리 실행\n",
    "sql_query_all = \"\"\"\n",
    "with raw as(\n",
    "select\n",
    "client_access_time as reg_ts\n",
    ", row_number( ) over ( partition by uuid order by client_access_time asc  ) as rn\n",
    ", case when json_extract_scalar(user_properties, '$.utm_medium') = 'paid' then 1 else 0 end as is_paid\n",
    ", uuid\n",
    "from moyo_logs.user_behavior_logs\n",
    "where 1=1\n",
    "    and date( date_ymd) between date( '2022-12-01') and date( '2023-07-01')\n",
    ")\n",
    "-- , total as (\n",
    "select\n",
    "date_trunc('month', reg_ts) as month\n",
    "-- , is_paid\n",
    ", count( distinct uuid ) as cnt\n",
    "-- , count( distinct case when rn = 1 then uuid end ) as cnt_first\n",
    "from raw\n",
    "group by 1\n",
    "Order by 1 desc\n",
    "\"\"\"\n",
    "\n",
    "df = wr.athena.read_sql_query(sql=sql_query_all, database=\"moyo_logs\")\n",
    "bucket = 'moyo-mart'\n",
    "table_name = 'moyo_monthly_incremental_total'\n",
    "res = wr.s3.to_parquet(\n",
    "    df=df,\n",
    "    path=f\"s3://{bucket}/{table_name}/\",\n",
    "    dataset=True,\n",
    "    database=\"moyo_mart\",\n",
    "    table=table_name,\n",
    "    mode=\"overwrite_partitions\",\n",
    "    # partition_cols=['date_ym']\n",
    "            # partition_cols 는 마지막 칼럼만 사용 가능\n",
    ")"
   ]
  },
  {
   "cell_type": "code",
   "execution_count": 7,
   "metadata": {},
   "outputs": [
    {
     "ename": "NameError",
     "evalue": "name 'df' is not defined",
     "output_type": "error",
     "traceback": [
      "\u001b[0;31m---------------------------------------------------------------------------\u001b[0m",
      "\u001b[0;31mNameError\u001b[0m                                 Traceback (most recent call last)",
      "Cell \u001b[0;32mIn[7], line 1\u001b[0m\n\u001b[0;32m----> 1\u001b[0m df\n",
      "\u001b[0;31mNameError\u001b[0m: name 'df' is not defined"
     ]
    }
   ],
   "source": [
    "df"
   ]
  },
  {
   "cell_type": "code",
   "execution_count": null,
   "metadata": {},
   "outputs": [],
   "source": []
  }
 ],
 "metadata": {
  "kernelspec": {
   "display_name": "Python 3",
   "language": "python",
   "name": "python3"
  },
  "language_info": {
   "codemirror_mode": {
    "name": "ipython",
    "version": 3
   },
   "file_extension": ".py",
   "mimetype": "text/x-python",
   "name": "python",
   "nbconvert_exporter": "python",
   "pygments_lexer": "ipython3",
   "version": "3.11.3"
  },
  "orig_nbformat": 4
 },
 "nbformat": 4,
 "nbformat_minor": 2
}
